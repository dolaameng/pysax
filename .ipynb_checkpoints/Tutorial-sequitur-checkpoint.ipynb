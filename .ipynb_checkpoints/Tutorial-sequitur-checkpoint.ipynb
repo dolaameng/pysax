{
 "cells": [
  {
   "cell_type": "code",
   "execution_count": 1,
   "metadata": {
    "collapsed": false
   },
   "outputs": [],
   "source": [
    "%matplotlib inline\n",
    "%load_ext autoreload\n",
    "%autoreload 2\n",
    "import matplotlib.pyplot as plt\n",
    "import pysequitur"
   ]
  },
  {
   "cell_type": "markdown",
   "metadata": {},
   "source": [
    "### Explore"
   ]
  },
  {
   "cell_type": "code",
   "execution_count": 2,
   "metadata": {
    "collapsed": false
   },
   "outputs": [
    {
     "name": "stdout",
     "output_type": "stream",
     "text": [
      "0 -> 1 1 2 d d d a \n",
      "1 -> 2 c \tabc\n",
      "2 -> a b \tab\n",
      "\n"
     ]
    }
   ],
   "source": [
    "from subprocess import Popen, PIPE, STDOUT\n",
    "command = Popen([\"sequitur/sequitur\", \"-p\", \"-r\"], stdin=PIPE, stdout=PIPE)\n",
    "print command.communicate(\"abcabcabddda\")[0]"
   ]
  },
  {
   "cell_type": "code",
   "execution_count": 3,
   "metadata": {
    "collapsed": false
   },
   "outputs": [
    {
     "name": "stdout",
     "output_type": "stream",
     "text": [
      "71\n"
     ]
    }
   ],
   "source": [
    "charset = \"abcdefghijklmnopqrstuvwxyzABCDEFGHIJKLMNOPQRSTUVWXYZ!#$%&*+,-.:;<=>?@[]\"\n",
    "print len(charset)"
   ]
  },
  {
   "cell_type": "markdown",
   "metadata": {},
   "source": [
    "## Test pysequitur"
   ]
  },
  {
   "cell_type": "code",
   "execution_count": 37,
   "metadata": {
    "collapsed": false
   },
   "outputs": [
    {
     "name": "stdout",
     "output_type": "stream",
     "text": [
      "\n",
      "raw_rules: \n",
      "0 -> 1 abd abd 2 xxx abd abc 1 \n",
      "1 -> abc 2 \tabcabcabd\n",
      "2 -> abc abd \tabcabd\n",
      "\n",
      "rule0: \n",
      "1 abd abd 2 xxx abd abc 1 \n",
      "\n",
      "rules: \n",
      "{1: {'body': ['abc', '2'], 'expansion': ['abc', 'abc', 'abd']}, 2: {'body': ['abc', 'abd'], 'expansion': ['abc', 'abd']}}\n",
      "\n",
      "word occurences in rules: \n",
      "{'abc': 3, 'abd': 2}\n"
     ]
    }
   ],
   "source": [
    "words = \"abc abc abd abd abd abc abd xxx abd abc abc abc abd\".split()\n",
    "sm = pysequitur.SequiturModel(\"sequitur/sequitur\")\n",
    "sm.fit(words)\n",
    "print \"\\nraw_rules: \\n\", sm.raw_rules\n",
    "print \"\\nrule0: \\n\", sm.rule0\n",
    "print \"\\nrules: \\n\", sm.rules\n",
    "print \"\\nword occurences in rules: \\n\", sm.word2rule_occurrences"
   ]
  },
  {
   "cell_type": "code",
   "execution_count": 38,
   "metadata": {
    "collapsed": false
   },
   "outputs": [
    {
     "name": "stdout",
     "output_type": "stream",
     "text": [
      "0 -> 1 abd abd 2 xxx abd abc 1 \n",
      "1 -> abc 2\n",
      "2 -> abc abd\n"
     ]
    }
   ],
   "source": [
    "print sm.get_printable_rules()"
   ]
  },
  {
   "cell_type": "code",
   "execution_count": 39,
   "metadata": {
    "collapsed": false
   },
   "outputs": [
    {
     "data": {
      "text/plain": [
       "{'abc': 3, 'abd': 2}"
      ]
     },
     "execution_count": 39,
     "metadata": {},
     "output_type": "execute_result"
    }
   ],
   "source": [
    "sm.word2rule_occurrences"
   ]
  },
  {
   "cell_type": "code",
   "execution_count": 40,
   "metadata": {
    "collapsed": false
   },
   "outputs": [
    {
     "data": {
      "text/plain": [
       "[('abc', 3),\n",
       " ('abc', 3),\n",
       " ('abd', 2),\n",
       " ('abd', 2),\n",
       " ('abd', 2),\n",
       " ('abc', 3),\n",
       " ('abd', 2),\n",
       " ('xxx', 0),\n",
       " ('abd', 2),\n",
       " ('abc', 3),\n",
       " ('abc', 3),\n",
       " ('abc', 3),\n",
       " ('abd', 2)]"
      ]
     },
     "execution_count": 40,
     "metadata": {},
     "output_type": "execute_result"
    }
   ],
   "source": [
    "zip(words, sm.tag(words))"
   ]
  },
  {
   "cell_type": "code",
   "execution_count": null,
   "metadata": {
    "collapsed": true
   },
   "outputs": [],
   "source": []
  }
 ],
 "metadata": {
  "kernelspec": {
   "display_name": "Python 2",
   "language": "python",
   "name": "python2"
  },
  "language_info": {
   "codemirror_mode": {
    "name": "ipython",
    "version": 2
   },
   "file_extension": ".py",
   "mimetype": "text/x-python",
   "name": "python",
   "nbconvert_exporter": "python",
   "pygments_lexer": "ipython2",
   "version": "2.7.5+"
  }
 },
 "nbformat": 4,
 "nbformat_minor": 0
}
